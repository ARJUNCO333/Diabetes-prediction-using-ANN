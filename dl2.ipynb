{
  "nbformat": 4,
  "nbformat_minor": 0,
  "metadata": {
    "colab": {
      "provenance": [],
      "authorship_tag": "ABX9TyMqFsRDbsJkiU+g2ctEwiFj",
      "include_colab_link": true
    },
    "kernelspec": {
      "name": "python3",
      "display_name": "Python 3"
    },
    "language_info": {
      "name": "python"
    }
  },
  "cells": [
    {
      "cell_type": "markdown",
      "metadata": {
        "id": "view-in-github",
        "colab_type": "text"
      },
      "source": [
        "<a href=\"https://colab.research.google.com/github/ARJUNCO333/Diabetes-prediction-using-ANN/blob/main/dl2.ipynb\" target=\"_parent\"><img src=\"https://colab.research.google.com/assets/colab-badge.svg\" alt=\"Open In Colab\"/></a>"
      ]
    },
    {
      "cell_type": "code",
      "execution_count": null,
      "metadata": {
        "id": "Ndd7r_rUSKIc"
      },
      "outputs": [],
      "source": [
        "import tensorflow as tf\n",
        "import numpy as np\n",
        "import pandas as pd"
      ]
    },
    {
      "cell_type": "code",
      "source": [
        "df=pd.read_csv(\"/content/diabetes.csv\")\n",
        "df"
      ],
      "metadata": {
        "colab": {
          "base_uri": "https://localhost:8080/",
          "height": 424
        },
        "id": "ENW_4DGBTBOt",
        "outputId": "04253127-8bac-4931-c02b-77821db35da5"
      },
      "execution_count": null,
      "outputs": [
        {
          "output_type": "execute_result",
          "data": {
            "text/plain": [
              "     Pregnancies  Glucose  BloodPressure  SkinThickness  Insulin   BMI  \\\n",
              "0              6      148             72             35        0  33.6   \n",
              "1              1       85             66             29        0  26.6   \n",
              "2              8      183             64              0        0  23.3   \n",
              "3              1       89             66             23       94  28.1   \n",
              "4              0      137             40             35      168  43.1   \n",
              "..           ...      ...            ...            ...      ...   ...   \n",
              "763           10      101             76             48      180  32.9   \n",
              "764            2      122             70             27        0  36.8   \n",
              "765            5      121             72             23      112  26.2   \n",
              "766            1      126             60              0        0  30.1   \n",
              "767            1       93             70             31        0  30.4   \n",
              "\n",
              "     DiabetesPedigreeFunction  Age  Outcome  \n",
              "0                       0.627   50        1  \n",
              "1                       0.351   31        0  \n",
              "2                       0.672   32        1  \n",
              "3                       0.167   21        0  \n",
              "4                       2.288   33        1  \n",
              "..                        ...  ...      ...  \n",
              "763                     0.171   63        0  \n",
              "764                     0.340   27        0  \n",
              "765                     0.245   30        0  \n",
              "766                     0.349   47        1  \n",
              "767                     0.315   23        0  \n",
              "\n",
              "[768 rows x 9 columns]"
            ],
            "text/html": [
              "\n",
              "  <div id=\"df-df73809f-8b42-4bd3-bd12-1e43ad534080\">\n",
              "    <div class=\"colab-df-container\">\n",
              "      <div>\n",
              "<style scoped>\n",
              "    .dataframe tbody tr th:only-of-type {\n",
              "        vertical-align: middle;\n",
              "    }\n",
              "\n",
              "    .dataframe tbody tr th {\n",
              "        vertical-align: top;\n",
              "    }\n",
              "\n",
              "    .dataframe thead th {\n",
              "        text-align: right;\n",
              "    }\n",
              "</style>\n",
              "<table border=\"1\" class=\"dataframe\">\n",
              "  <thead>\n",
              "    <tr style=\"text-align: right;\">\n",
              "      <th></th>\n",
              "      <th>Pregnancies</th>\n",
              "      <th>Glucose</th>\n",
              "      <th>BloodPressure</th>\n",
              "      <th>SkinThickness</th>\n",
              "      <th>Insulin</th>\n",
              "      <th>BMI</th>\n",
              "      <th>DiabetesPedigreeFunction</th>\n",
              "      <th>Age</th>\n",
              "      <th>Outcome</th>\n",
              "    </tr>\n",
              "  </thead>\n",
              "  <tbody>\n",
              "    <tr>\n",
              "      <th>0</th>\n",
              "      <td>6</td>\n",
              "      <td>148</td>\n",
              "      <td>72</td>\n",
              "      <td>35</td>\n",
              "      <td>0</td>\n",
              "      <td>33.6</td>\n",
              "      <td>0.627</td>\n",
              "      <td>50</td>\n",
              "      <td>1</td>\n",
              "    </tr>\n",
              "    <tr>\n",
              "      <th>1</th>\n",
              "      <td>1</td>\n",
              "      <td>85</td>\n",
              "      <td>66</td>\n",
              "      <td>29</td>\n",
              "      <td>0</td>\n",
              "      <td>26.6</td>\n",
              "      <td>0.351</td>\n",
              "      <td>31</td>\n",
              "      <td>0</td>\n",
              "    </tr>\n",
              "    <tr>\n",
              "      <th>2</th>\n",
              "      <td>8</td>\n",
              "      <td>183</td>\n",
              "      <td>64</td>\n",
              "      <td>0</td>\n",
              "      <td>0</td>\n",
              "      <td>23.3</td>\n",
              "      <td>0.672</td>\n",
              "      <td>32</td>\n",
              "      <td>1</td>\n",
              "    </tr>\n",
              "    <tr>\n",
              "      <th>3</th>\n",
              "      <td>1</td>\n",
              "      <td>89</td>\n",
              "      <td>66</td>\n",
              "      <td>23</td>\n",
              "      <td>94</td>\n",
              "      <td>28.1</td>\n",
              "      <td>0.167</td>\n",
              "      <td>21</td>\n",
              "      <td>0</td>\n",
              "    </tr>\n",
              "    <tr>\n",
              "      <th>4</th>\n",
              "      <td>0</td>\n",
              "      <td>137</td>\n",
              "      <td>40</td>\n",
              "      <td>35</td>\n",
              "      <td>168</td>\n",
              "      <td>43.1</td>\n",
              "      <td>2.288</td>\n",
              "      <td>33</td>\n",
              "      <td>1</td>\n",
              "    </tr>\n",
              "    <tr>\n",
              "      <th>...</th>\n",
              "      <td>...</td>\n",
              "      <td>...</td>\n",
              "      <td>...</td>\n",
              "      <td>...</td>\n",
              "      <td>...</td>\n",
              "      <td>...</td>\n",
              "      <td>...</td>\n",
              "      <td>...</td>\n",
              "      <td>...</td>\n",
              "    </tr>\n",
              "    <tr>\n",
              "      <th>763</th>\n",
              "      <td>10</td>\n",
              "      <td>101</td>\n",
              "      <td>76</td>\n",
              "      <td>48</td>\n",
              "      <td>180</td>\n",
              "      <td>32.9</td>\n",
              "      <td>0.171</td>\n",
              "      <td>63</td>\n",
              "      <td>0</td>\n",
              "    </tr>\n",
              "    <tr>\n",
              "      <th>764</th>\n",
              "      <td>2</td>\n",
              "      <td>122</td>\n",
              "      <td>70</td>\n",
              "      <td>27</td>\n",
              "      <td>0</td>\n",
              "      <td>36.8</td>\n",
              "      <td>0.340</td>\n",
              "      <td>27</td>\n",
              "      <td>0</td>\n",
              "    </tr>\n",
              "    <tr>\n",
              "      <th>765</th>\n",
              "      <td>5</td>\n",
              "      <td>121</td>\n",
              "      <td>72</td>\n",
              "      <td>23</td>\n",
              "      <td>112</td>\n",
              "      <td>26.2</td>\n",
              "      <td>0.245</td>\n",
              "      <td>30</td>\n",
              "      <td>0</td>\n",
              "    </tr>\n",
              "    <tr>\n",
              "      <th>766</th>\n",
              "      <td>1</td>\n",
              "      <td>126</td>\n",
              "      <td>60</td>\n",
              "      <td>0</td>\n",
              "      <td>0</td>\n",
              "      <td>30.1</td>\n",
              "      <td>0.349</td>\n",
              "      <td>47</td>\n",
              "      <td>1</td>\n",
              "    </tr>\n",
              "    <tr>\n",
              "      <th>767</th>\n",
              "      <td>1</td>\n",
              "      <td>93</td>\n",
              "      <td>70</td>\n",
              "      <td>31</td>\n",
              "      <td>0</td>\n",
              "      <td>30.4</td>\n",
              "      <td>0.315</td>\n",
              "      <td>23</td>\n",
              "      <td>0</td>\n",
              "    </tr>\n",
              "  </tbody>\n",
              "</table>\n",
              "<p>768 rows × 9 columns</p>\n",
              "</div>\n",
              "      <button class=\"colab-df-convert\" onclick=\"convertToInteractive('df-df73809f-8b42-4bd3-bd12-1e43ad534080')\"\n",
              "              title=\"Convert this dataframe to an interactive table.\"\n",
              "              style=\"display:none;\">\n",
              "        \n",
              "  <svg xmlns=\"http://www.w3.org/2000/svg\" height=\"24px\"viewBox=\"0 0 24 24\"\n",
              "       width=\"24px\">\n",
              "    <path d=\"M0 0h24v24H0V0z\" fill=\"none\"/>\n",
              "    <path d=\"M18.56 5.44l.94 2.06.94-2.06 2.06-.94-2.06-.94-.94-2.06-.94 2.06-2.06.94zm-11 1L8.5 8.5l.94-2.06 2.06-.94-2.06-.94L8.5 2.5l-.94 2.06-2.06.94zm10 10l.94 2.06.94-2.06 2.06-.94-2.06-.94-.94-2.06-.94 2.06-2.06.94z\"/><path d=\"M17.41 7.96l-1.37-1.37c-.4-.4-.92-.59-1.43-.59-.52 0-1.04.2-1.43.59L10.3 9.45l-7.72 7.72c-.78.78-.78 2.05 0 2.83L4 21.41c.39.39.9.59 1.41.59.51 0 1.02-.2 1.41-.59l7.78-7.78 2.81-2.81c.8-.78.8-2.07 0-2.86zM5.41 20L4 18.59l7.72-7.72 1.47 1.35L5.41 20z\"/>\n",
              "  </svg>\n",
              "      </button>\n",
              "      \n",
              "  <style>\n",
              "    .colab-df-container {\n",
              "      display:flex;\n",
              "      flex-wrap:wrap;\n",
              "      gap: 12px;\n",
              "    }\n",
              "\n",
              "    .colab-df-convert {\n",
              "      background-color: #E8F0FE;\n",
              "      border: none;\n",
              "      border-radius: 50%;\n",
              "      cursor: pointer;\n",
              "      display: none;\n",
              "      fill: #1967D2;\n",
              "      height: 32px;\n",
              "      padding: 0 0 0 0;\n",
              "      width: 32px;\n",
              "    }\n",
              "\n",
              "    .colab-df-convert:hover {\n",
              "      background-color: #E2EBFA;\n",
              "      box-shadow: 0px 1px 2px rgba(60, 64, 67, 0.3), 0px 1px 3px 1px rgba(60, 64, 67, 0.15);\n",
              "      fill: #174EA6;\n",
              "    }\n",
              "\n",
              "    [theme=dark] .colab-df-convert {\n",
              "      background-color: #3B4455;\n",
              "      fill: #D2E3FC;\n",
              "    }\n",
              "\n",
              "    [theme=dark] .colab-df-convert:hover {\n",
              "      background-color: #434B5C;\n",
              "      box-shadow: 0px 1px 3px 1px rgba(0, 0, 0, 0.15);\n",
              "      filter: drop-shadow(0px 1px 2px rgba(0, 0, 0, 0.3));\n",
              "      fill: #FFFFFF;\n",
              "    }\n",
              "  </style>\n",
              "\n",
              "      <script>\n",
              "        const buttonEl =\n",
              "          document.querySelector('#df-df73809f-8b42-4bd3-bd12-1e43ad534080 button.colab-df-convert');\n",
              "        buttonEl.style.display =\n",
              "          google.colab.kernel.accessAllowed ? 'block' : 'none';\n",
              "\n",
              "        async function convertToInteractive(key) {\n",
              "          const element = document.querySelector('#df-df73809f-8b42-4bd3-bd12-1e43ad534080');\n",
              "          const dataTable =\n",
              "            await google.colab.kernel.invokeFunction('convertToInteractive',\n",
              "                                                     [key], {});\n",
              "          if (!dataTable) return;\n",
              "\n",
              "          const docLinkHtml = 'Like what you see? Visit the ' +\n",
              "            '<a target=\"_blank\" href=https://colab.research.google.com/notebooks/data_table.ipynb>data table notebook</a>'\n",
              "            + ' to learn more about interactive tables.';\n",
              "          element.innerHTML = '';\n",
              "          dataTable['output_type'] = 'display_data';\n",
              "          await google.colab.output.renderOutput(dataTable, element);\n",
              "          const docLink = document.createElement('div');\n",
              "          docLink.innerHTML = docLinkHtml;\n",
              "          element.appendChild(docLink);\n",
              "        }\n",
              "      </script>\n",
              "    </div>\n",
              "  </div>\n",
              "  "
            ]
          },
          "metadata": {},
          "execution_count": 2
        }
      ]
    },
    {
      "cell_type": "code",
      "source": [
        "x=df.iloc[:,:-1].values\n",
        "y=df.iloc[:,-1].values\n",
        "x"
      ],
      "metadata": {
        "colab": {
          "base_uri": "https://localhost:8080/"
        },
        "id": "b0o6pfRPTbOA",
        "outputId": "e02828d2-da93-47c6-bad3-83046b984bf0"
      },
      "execution_count": null,
      "outputs": [
        {
          "output_type": "execute_result",
          "data": {
            "text/plain": [
              "array([[  6.   , 148.   ,  72.   , ...,  33.6  ,   0.627,  50.   ],\n",
              "       [  1.   ,  85.   ,  66.   , ...,  26.6  ,   0.351,  31.   ],\n",
              "       [  8.   , 183.   ,  64.   , ...,  23.3  ,   0.672,  32.   ],\n",
              "       ...,\n",
              "       [  5.   , 121.   ,  72.   , ...,  26.2  ,   0.245,  30.   ],\n",
              "       [  1.   , 126.   ,  60.   , ...,  30.1  ,   0.349,  47.   ],\n",
              "       [  1.   ,  93.   ,  70.   , ...,  30.4  ,   0.315,  23.   ]])"
            ]
          },
          "metadata": {},
          "execution_count": 3
        }
      ]
    },
    {
      "cell_type": "code",
      "source": [
        "from sklearn.model_selection import train_test_split\n",
        "x_train,x_test,y_train,y_test=train_test_split(x,y,test_size=0.30,random_state=42)\n",
        "y_test"
      ],
      "metadata": {
        "colab": {
          "base_uri": "https://localhost:8080/"
        },
        "id": "X1GTbzp_Tydd",
        "outputId": "26f1e108-4505-4641-faf4-679185b47529"
      },
      "execution_count": null,
      "outputs": [
        {
          "output_type": "execute_result",
          "data": {
            "text/plain": [
              "array([0, 0, 0, 0, 0, 0, 0, 0, 0, 0, 1, 0, 1, 0, 0, 1, 0, 0, 1, 1, 0, 0,\n",
              "       0, 0, 0, 1, 0, 0, 1, 0, 1, 1, 1, 1, 0, 1, 1, 1, 0, 1, 0, 0, 0, 1,\n",
              "       0, 1, 1, 0, 0, 0, 0, 1, 1, 1, 0, 0, 0, 0, 0, 1, 1, 0, 0, 1, 0, 0,\n",
              "       0, 1, 0, 1, 0, 0, 0, 1, 0, 0, 0, 0, 0, 0, 1, 1, 0, 0, 0, 1, 1, 1,\n",
              "       0, 0, 0, 0, 0, 1, 0, 0, 0, 0, 1, 0, 0, 0, 1, 0, 1, 0, 0, 1, 1, 1,\n",
              "       0, 0, 0, 1, 0, 0, 1, 0, 0, 0, 0, 0, 1, 0, 0, 0, 1, 1, 1, 0, 1, 1,\n",
              "       0, 1, 1, 0, 1, 1, 1, 0, 0, 0, 0, 0, 0, 0, 1, 0, 0, 1, 0, 0, 1, 0,\n",
              "       0, 1, 0, 0, 1, 0, 1, 1, 0, 0, 0, 1, 0, 0, 0, 1, 0, 1, 1, 0, 0, 0,\n",
              "       0, 0, 1, 1, 0, 0, 0, 1, 1, 0, 0, 0, 1, 0, 1, 0, 1, 0, 0, 0, 0, 0,\n",
              "       1, 1, 0, 0, 1, 0, 0, 0, 0, 0, 1, 1, 0, 0, 0, 0, 1, 0, 0, 1, 0, 0,\n",
              "       1, 0, 0, 0, 0, 0, 1, 1, 0, 0, 0])"
            ]
          },
          "metadata": {},
          "execution_count": 4
        }
      ]
    },
    {
      "cell_type": "code",
      "source": [
        "from sklearn.preprocessing import StandardScaler\n",
        "scaler=StandardScaler()\n",
        "scaler.fit(x_train)\n",
        "x_train=scaler.fit_transform(x_train)\n",
        "x_test=scaler.fit_transform(x_test)\n",
        "x_train"
      ],
      "metadata": {
        "colab": {
          "base_uri": "https://localhost:8080/"
        },
        "id": "voLY8G7CT-dh",
        "outputId": "fe5b875e-b5b7-460c-cd87-b85e373aa318"
      },
      "execution_count": null,
      "outputs": [
        {
          "output_type": "execute_result",
          "data": {
            "text/plain": [
              "array([[-0.8362943 , -0.80005088, -0.53576428, ..., -1.06015343,\n",
              "        -0.61421636, -0.94861028],\n",
              "       [ 0.39072767, -0.49054341,  0.12804365, ...,  0.64646721,\n",
              "        -0.90973787, -0.43466673],\n",
              "       [-1.14304979,  0.43797901, -0.09322566, ...,  1.35537117,\n",
              "        -0.30699103, -0.77729576],\n",
              "       ...,\n",
              "       [ 1.92450513, -0.6143464 ,  0.90248622, ...,  1.78859026,\n",
              "         1.94892066,  0.42190587],\n",
              "       [-1.14304979,  0.62368349, -3.8548039 , ...,  1.36849903,\n",
              "        -0.77514391, -0.34900947],\n",
              "       [-1.14304979,  0.12847154,  1.45565949, ..., -1.24394334,\n",
              "        -0.60836445, -1.03426754]])"
            ]
          },
          "metadata": {},
          "execution_count": 5
        }
      ]
    },
    {
      "cell_type": "code",
      "source": [],
      "metadata": {
        "id": "YpK96Z5vUBPV"
      },
      "execution_count": null,
      "outputs": []
    },
    {
      "cell_type": "code",
      "source": [
        "# initialization of ANN\n",
        "ann=tf.keras.models.Sequential()\n"
      ],
      "metadata": {
        "id": "9kgWmaCbGskJ"
      },
      "execution_count": null,
      "outputs": []
    },
    {
      "cell_type": "code",
      "source": [
        "# first hidden layer\n",
        "ann.add(tf.keras.layers.Dense(6,activation='relu'))     #dense = fully connected ann #6 = no.of ann in hidden layer"
      ],
      "metadata": {
        "id": "paLUBW32Hzib"
      },
      "execution_count": null,
      "outputs": []
    },
    {
      "cell_type": "code",
      "source": [
        "# second hidden layer\n",
        "ann.add(tf.keras.layers.Dense(6,activation='relu'))"
      ],
      "metadata": {
        "id": "aB03y5r3I3Rt"
      },
      "execution_count": null,
      "outputs": []
    },
    {
      "cell_type": "code",
      "source": [
        "# output layer\n",
        "ann.add(tf.keras.layers.Dense(1,activation='relu'))"
      ],
      "metadata": {
        "id": "KkoEr_qIJN8t"
      },
      "execution_count": null,
      "outputs": []
    },
    {
      "cell_type": "code",
      "source": [
        "# compiling ANN\n",
        "ann.compile(optimizer='adam',loss='binary_crossentropy',metrics=['accuracy'])  #optimizer ="
      ],
      "metadata": {
        "id": "SyyD-J6OKQA_"
      },
      "execution_count": null,
      "outputs": []
    },
    {
      "cell_type": "code",
      "source": [
        "ann.fit(x_train,y_train,batch_size=32,epochs=100)    # batch_size = no.of observation in a batch     #epochs = no.of cycles happening"
      ],
      "metadata": {
        "colab": {
          "base_uri": "https://localhost:8080/"
        },
        "id": "uT4pDuO-K7QM",
        "outputId": "a6b4e0bc-b050-498a-8757-c9780dbaafe9"
      },
      "execution_count": null,
      "outputs": [
        {
          "output_type": "stream",
          "name": "stdout",
          "text": [
            "Epoch 1/100\n",
            "17/17 [==============================] - 3s 9ms/step - loss: 4.4406 - accuracy: 0.6052\n",
            "Epoch 2/100\n",
            "17/17 [==============================] - 0s 7ms/step - loss: 4.3078 - accuracy: 0.6257\n",
            "Epoch 3/100\n",
            "17/17 [==============================] - 0s 5ms/step - loss: 4.2307 - accuracy: 0.6350\n",
            "Epoch 4/100\n",
            "17/17 [==============================] - 0s 12ms/step - loss: 4.1103 - accuracy: 0.6331\n",
            "Epoch 5/100\n",
            "17/17 [==============================] - 0s 6ms/step - loss: 4.0001 - accuracy: 0.6387\n",
            "Epoch 6/100\n",
            "17/17 [==============================] - 0s 5ms/step - loss: 3.8722 - accuracy: 0.6425\n",
            "Epoch 7/100\n",
            "17/17 [==============================] - 0s 9ms/step - loss: 3.8322 - accuracy: 0.6480\n",
            "Epoch 8/100\n",
            "17/17 [==============================] - 0s 5ms/step - loss: 3.8007 - accuracy: 0.6518\n",
            "Epoch 9/100\n",
            "17/17 [==============================] - 0s 3ms/step - loss: 3.7665 - accuracy: 0.6536\n",
            "Epoch 10/100\n",
            "17/17 [==============================] - 0s 5ms/step - loss: 3.7587 - accuracy: 0.6555\n",
            "Epoch 11/100\n",
            "17/17 [==============================] - 0s 5ms/step - loss: 3.7537 - accuracy: 0.6555\n",
            "Epoch 12/100\n",
            "17/17 [==============================] - 0s 3ms/step - loss: 3.7494 - accuracy: 0.6611\n",
            "Epoch 13/100\n",
            "17/17 [==============================] - 0s 4ms/step - loss: 3.7466 - accuracy: 0.6629\n",
            "Epoch 14/100\n",
            "17/17 [==============================] - 0s 4ms/step - loss: 3.7429 - accuracy: 0.6648\n",
            "Epoch 15/100\n",
            "17/17 [==============================] - 0s 4ms/step - loss: 3.7404 - accuracy: 0.6648\n",
            "Epoch 16/100\n",
            "17/17 [==============================] - 0s 3ms/step - loss: 3.7283 - accuracy: 0.6629\n",
            "Epoch 17/100\n",
            "17/17 [==============================] - 0s 3ms/step - loss: 3.7082 - accuracy: 0.6648\n",
            "Epoch 18/100\n",
            "17/17 [==============================] - 0s 3ms/step - loss: 3.6648 - accuracy: 0.6648\n",
            "Epoch 19/100\n",
            "17/17 [==============================] - 0s 4ms/step - loss: 3.5244 - accuracy: 0.6667\n",
            "Epoch 20/100\n",
            "17/17 [==============================] - 0s 3ms/step - loss: 3.3667 - accuracy: 0.6685\n",
            "Epoch 21/100\n",
            "17/17 [==============================] - 0s 4ms/step - loss: 3.1623 - accuracy: 0.6667\n",
            "Epoch 22/100\n",
            "17/17 [==============================] - 0s 3ms/step - loss: 3.1246 - accuracy: 0.6648\n",
            "Epoch 23/100\n",
            "17/17 [==============================] - 0s 4ms/step - loss: 2.8271 - accuracy: 0.6648\n",
            "Epoch 24/100\n",
            "17/17 [==============================] - 0s 6ms/step - loss: 2.2982 - accuracy: 0.6648\n",
            "Epoch 25/100\n",
            "17/17 [==============================] - 0s 4ms/step - loss: 1.7700 - accuracy: 0.6574\n",
            "Epoch 26/100\n",
            "17/17 [==============================] - 0s 3ms/step - loss: 1.5507 - accuracy: 0.6611\n",
            "Epoch 27/100\n",
            "17/17 [==============================] - 0s 3ms/step - loss: 1.4411 - accuracy: 0.6611\n",
            "Epoch 28/100\n",
            "17/17 [==============================] - 0s 4ms/step - loss: 1.3019 - accuracy: 0.6648\n",
            "Epoch 29/100\n",
            "17/17 [==============================] - 0s 4ms/step - loss: 1.1396 - accuracy: 0.6685\n",
            "Epoch 30/100\n",
            "17/17 [==============================] - 0s 4ms/step - loss: 1.0906 - accuracy: 0.6611\n",
            "Epoch 31/100\n",
            "17/17 [==============================] - 0s 3ms/step - loss: 1.0757 - accuracy: 0.6648\n",
            "Epoch 32/100\n",
            "17/17 [==============================] - 0s 4ms/step - loss: 1.0669 - accuracy: 0.6667\n",
            "Epoch 33/100\n",
            "17/17 [==============================] - 0s 5ms/step - loss: 0.9771 - accuracy: 0.6667\n",
            "Epoch 34/100\n",
            "17/17 [==============================] - 0s 3ms/step - loss: 0.9508 - accuracy: 0.6741\n",
            "Epoch 35/100\n",
            "17/17 [==============================] - 0s 4ms/step - loss: 0.9402 - accuracy: 0.6723\n",
            "Epoch 36/100\n",
            "17/17 [==============================] - 0s 4ms/step - loss: 0.9339 - accuracy: 0.6723\n",
            "Epoch 37/100\n",
            "17/17 [==============================] - 0s 4ms/step - loss: 0.8692 - accuracy: 0.6760\n",
            "Epoch 38/100\n",
            "17/17 [==============================] - 0s 3ms/step - loss: 0.8261 - accuracy: 0.6834\n",
            "Epoch 39/100\n",
            "17/17 [==============================] - 0s 7ms/step - loss: 0.8172 - accuracy: 0.6872\n",
            "Epoch 40/100\n",
            "17/17 [==============================] - 0s 5ms/step - loss: 0.8095 - accuracy: 0.6872\n",
            "Epoch 41/100\n",
            "17/17 [==============================] - 0s 4ms/step - loss: 0.8042 - accuracy: 0.6853\n",
            "Epoch 42/100\n",
            "17/17 [==============================] - 0s 7ms/step - loss: 0.7813 - accuracy: 0.6909\n",
            "Epoch 43/100\n",
            "17/17 [==============================] - 0s 6ms/step - loss: 0.7694 - accuracy: 0.6909\n",
            "Epoch 44/100\n",
            "17/17 [==============================] - 0s 4ms/step - loss: 0.7317 - accuracy: 0.6927\n",
            "Epoch 45/100\n",
            "17/17 [==============================] - 0s 11ms/step - loss: 0.9463 - accuracy: 0.6816\n",
            "Epoch 46/100\n",
            "17/17 [==============================] - 0s 5ms/step - loss: 1.1637 - accuracy: 0.6834\n",
            "Epoch 47/100\n",
            "17/17 [==============================] - 0s 7ms/step - loss: 1.1705 - accuracy: 0.6853\n",
            "Epoch 48/100\n",
            "17/17 [==============================] - 0s 6ms/step - loss: 1.1187 - accuracy: 0.6872\n",
            "Epoch 49/100\n",
            "17/17 [==============================] - 0s 7ms/step - loss: 0.9667 - accuracy: 0.6890\n",
            "Epoch 50/100\n",
            "17/17 [==============================] - 0s 7ms/step - loss: 0.8340 - accuracy: 0.6983\n",
            "Epoch 51/100\n",
            "17/17 [==============================] - 0s 8ms/step - loss: 0.7799 - accuracy: 0.6927\n",
            "Epoch 52/100\n",
            "17/17 [==============================] - 0s 5ms/step - loss: 0.7283 - accuracy: 0.6927\n",
            "Epoch 53/100\n",
            "17/17 [==============================] - 0s 5ms/step - loss: 0.7188 - accuracy: 0.6965\n",
            "Epoch 54/100\n",
            "17/17 [==============================] - 0s 11ms/step - loss: 0.7132 - accuracy: 0.6927\n",
            "Epoch 55/100\n",
            "17/17 [==============================] - 0s 8ms/step - loss: 0.7095 - accuracy: 0.6909\n",
            "Epoch 56/100\n",
            "17/17 [==============================] - 0s 9ms/step - loss: 0.7066 - accuracy: 0.6890\n",
            "Epoch 57/100\n",
            "17/17 [==============================] - 0s 4ms/step - loss: 0.7040 - accuracy: 0.6927\n",
            "Epoch 58/100\n",
            "17/17 [==============================] - 0s 6ms/step - loss: 0.7020 - accuracy: 0.6946\n",
            "Epoch 59/100\n",
            "17/17 [==============================] - 0s 6ms/step - loss: 0.7002 - accuracy: 0.6965\n",
            "Epoch 60/100\n",
            "17/17 [==============================] - 0s 5ms/step - loss: 0.6984 - accuracy: 0.6946\n",
            "Epoch 61/100\n",
            "17/17 [==============================] - 0s 5ms/step - loss: 0.6968 - accuracy: 0.6946\n",
            "Epoch 62/100\n",
            "17/17 [==============================] - 0s 7ms/step - loss: 0.6955 - accuracy: 0.6946\n",
            "Epoch 63/100\n",
            "17/17 [==============================] - 0s 10ms/step - loss: 0.6941 - accuracy: 0.6946\n",
            "Epoch 64/100\n",
            "17/17 [==============================] - 0s 11ms/step - loss: 0.6751 - accuracy: 0.6946\n",
            "Epoch 65/100\n",
            "17/17 [==============================] - 0s 8ms/step - loss: 0.6711 - accuracy: 0.6965\n",
            "Epoch 66/100\n",
            "17/17 [==============================] - 0s 9ms/step - loss: 0.6489 - accuracy: 0.6927\n",
            "Epoch 67/100\n",
            "17/17 [==============================] - 0s 12ms/step - loss: 0.6413 - accuracy: 0.6965\n",
            "Epoch 68/100\n",
            "17/17 [==============================] - 0s 12ms/step - loss: 0.6393 - accuracy: 0.6965\n",
            "Epoch 69/100\n",
            "17/17 [==============================] - 0s 13ms/step - loss: 0.6376 - accuracy: 0.7002\n",
            "Epoch 70/100\n",
            "17/17 [==============================] - 0s 10ms/step - loss: 0.6363 - accuracy: 0.7002\n",
            "Epoch 71/100\n",
            "17/17 [==============================] - 0s 10ms/step - loss: 0.6351 - accuracy: 0.7002\n",
            "Epoch 72/100\n",
            "17/17 [==============================] - 0s 8ms/step - loss: 0.6340 - accuracy: 0.7020\n",
            "Epoch 73/100\n",
            "17/17 [==============================] - 0s 7ms/step - loss: 0.6328 - accuracy: 0.6983\n",
            "Epoch 74/100\n",
            "17/17 [==============================] - 0s 9ms/step - loss: 0.6319 - accuracy: 0.6983\n",
            "Epoch 75/100\n",
            "17/17 [==============================] - 0s 11ms/step - loss: 0.6308 - accuracy: 0.7002\n",
            "Epoch 76/100\n",
            "17/17 [==============================] - 0s 7ms/step - loss: 0.6298 - accuracy: 0.7002\n",
            "Epoch 77/100\n",
            "17/17 [==============================] - 0s 14ms/step - loss: 0.6288 - accuracy: 0.7039\n",
            "Epoch 78/100\n",
            "17/17 [==============================] - 0s 10ms/step - loss: 0.6278 - accuracy: 0.7039\n",
            "Epoch 79/100\n",
            "17/17 [==============================] - 0s 12ms/step - loss: 0.6269 - accuracy: 0.7020\n",
            "Epoch 80/100\n",
            "17/17 [==============================] - 0s 7ms/step - loss: 0.6441 - accuracy: 0.7076\n",
            "Epoch 81/100\n",
            "17/17 [==============================] - 0s 6ms/step - loss: 0.6665 - accuracy: 0.6853\n",
            "Epoch 82/100\n",
            "17/17 [==============================] - 0s 5ms/step - loss: 0.6722 - accuracy: 0.6834\n",
            "Epoch 83/100\n",
            "17/17 [==============================] - 0s 6ms/step - loss: 0.6694 - accuracy: 0.6816\n",
            "Epoch 84/100\n",
            "17/17 [==============================] - 0s 8ms/step - loss: 0.6660 - accuracy: 0.6872\n",
            "Epoch 85/100\n",
            "17/17 [==============================] - 0s 4ms/step - loss: 0.6628 - accuracy: 0.6872\n",
            "Epoch 86/100\n",
            "17/17 [==============================] - 0s 5ms/step - loss: 0.6597 - accuracy: 0.6927\n",
            "Epoch 87/100\n",
            "17/17 [==============================] - 0s 3ms/step - loss: 0.6384 - accuracy: 0.6927\n",
            "Epoch 88/100\n",
            "17/17 [==============================] - 0s 5ms/step - loss: 0.6375 - accuracy: 0.7039\n",
            "Epoch 89/100\n",
            "17/17 [==============================] - 0s 5ms/step - loss: 0.6591 - accuracy: 0.6927\n",
            "Epoch 90/100\n",
            "17/17 [==============================] - 0s 3ms/step - loss: 0.6588 - accuracy: 0.6946\n",
            "Epoch 91/100\n",
            "17/17 [==============================] - 0s 3ms/step - loss: 0.6561 - accuracy: 0.6927\n",
            "Epoch 92/100\n",
            "17/17 [==============================] - 0s 3ms/step - loss: 0.6321 - accuracy: 0.6983\n",
            "Epoch 93/100\n",
            "17/17 [==============================] - 0s 3ms/step - loss: 0.6278 - accuracy: 0.6965\n",
            "Epoch 94/100\n",
            "17/17 [==============================] - 0s 4ms/step - loss: 0.6049 - accuracy: 0.7020\n",
            "Epoch 95/100\n",
            "17/17 [==============================] - 0s 4ms/step - loss: 0.5999 - accuracy: 0.7058\n",
            "Epoch 96/100\n",
            "17/17 [==============================] - 0s 3ms/step - loss: 0.5771 - accuracy: 0.7076\n",
            "Epoch 97/100\n",
            "17/17 [==============================] - 0s 3ms/step - loss: 0.5509 - accuracy: 0.7076\n",
            "Epoch 98/100\n",
            "17/17 [==============================] - 0s 5ms/step - loss: 0.5482 - accuracy: 0.7076\n",
            "Epoch 99/100\n",
            "17/17 [==============================] - 0s 3ms/step - loss: 0.5468 - accuracy: 0.7132\n",
            "Epoch 100/100\n",
            "17/17 [==============================] - 0s 4ms/step - loss: 0.5447 - accuracy: 0.7114\n"
          ]
        },
        {
          "output_type": "execute_result",
          "data": {
            "text/plain": [
              "<keras.callbacks.History at 0x7ff9a847a6a0>"
            ]
          },
          "metadata": {},
          "execution_count": 11
        }
      ]
    },
    {
      "cell_type": "code",
      "source": [
        "ann.summary()"
      ],
      "metadata": {
        "id": "qk2PC9q1Up0q",
        "colab": {
          "base_uri": "https://localhost:8080/"
        },
        "outputId": "032e3696-c586-4cba-8b86-be64a10e09cc"
      },
      "execution_count": null,
      "outputs": [
        {
          "output_type": "stream",
          "name": "stdout",
          "text": [
            "Model: \"sequential\"\n",
            "_________________________________________________________________\n",
            " Layer (type)                Output Shape              Param #   \n",
            "=================================================================\n",
            " dense (Dense)               (None, 6)                 54        \n",
            "                                                                 \n",
            " dense_1 (Dense)             (None, 6)                 42        \n",
            "                                                                 \n",
            " dense_2 (Dense)             (None, 1)                 7         \n",
            "                                                                 \n",
            "=================================================================\n",
            "Total params: 103\n",
            "Trainable params: 103\n",
            "Non-trainable params: 0\n",
            "_________________________________________________________________\n"
          ]
        }
      ]
    }
  ]
}